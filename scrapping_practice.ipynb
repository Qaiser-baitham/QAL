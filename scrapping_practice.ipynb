{
  "nbformat": 4,
  "nbformat_minor": 0,
  "metadata": {
    "colab": {
      "provenance": [],
      "authorship_tag": "ABX9TyP8HwnBx+BBhTUkTdUm7PGS",
      "include_colab_link": true
    },
    "kernelspec": {
      "name": "python3",
      "display_name": "Python 3"
    },
    "language_info": {
      "name": "python"
    }
  },
  "cells": [
    {
      "cell_type": "markdown",
      "metadata": {
        "id": "view-in-github",
        "colab_type": "text"
      },
      "source": [
        "<a href=\"https://colab.research.google.com/github/Qaiser-baitham/QAL/blob/main/scrapping_practice.ipynb\" target=\"_parent\"><img src=\"https://colab.research.google.com/assets/colab-badge.svg\" alt=\"Open In Colab\"/></a>"
      ]
    },
    {
      "cell_type": "code",
      "source": [
        "import requests\n",
        "page = requests.get('https://www.ft.com/?saveConsentPreferences=success')\n",
        "page.status_code"
      ],
      "metadata": {
        "colab": {
          "base_uri": "https://localhost:8080/"
        },
        "id": "oUFx0UsHzppR",
        "outputId": "823ceb61-c5e3-453d-cf00-f69f115f7531"
      },
      "execution_count": 10,
      "outputs": [
        {
          "output_type": "execute_result",
          "data": {
            "text/plain": [
              "200"
            ]
          },
          "metadata": {},
          "execution_count": 10
        }
      ]
    },
    {
      "cell_type": "code",
      "source": [
        "page.content\n",
        "from bs4 import BeautifulSoup\n",
        "soup = BeautifulSoup(page.content, 'html.parser')\n",
        "print(soup.prettify())"
      ],
      "metadata": {
        "id": "uCGoFVw3aTKA"
      },
      "execution_count": null,
      "outputs": []
    },
    {
      "cell_type": "code",
      "source": [
        "soup.find_all('title')"
      ],
      "metadata": {
        "id": "Exmv6ui2bq3L"
      },
      "execution_count": null,
      "outputs": []
    },
    {
      "cell_type": "code",
      "source": [
        "for t in soup.find_all('title'):\n",
        "  print(t.get_text())"
      ],
      "metadata": {
        "id": "O0-CbO4Tb4eW"
      },
      "execution_count": null,
      "outputs": []
    },
    {
      "cell_type": "code",
      "source": [
        "for t in soup.find_all('p'):\n",
        "  print(t.get_text())"
      ],
      "metadata": {
        "id": "QikMXzhNcVRN"
      },
      "execution_count": null,
      "outputs": []
    },
    {
      "cell_type": "markdown",
      "source": [
        "Alternate method to get text"
      ],
      "metadata": {
        "id": "22wgiRLedKU9"
      }
    },
    {
      "cell_type": "code",
      "source": [
        "soup.find('p').get_text()"
      ],
      "metadata": {
        "id": "p-3OGMdCdPN9"
      },
      "execution_count": null,
      "outputs": []
    },
    {
      "cell_type": "code",
      "source": [
        "soup.find_all('p', class_='gdp')"
      ],
      "metadata": {
        "id": "bwA0zMragCwK"
      },
      "execution_count": null,
      "outputs": []
    }
  ]
}